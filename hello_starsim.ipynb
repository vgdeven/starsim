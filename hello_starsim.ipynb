{
 "cells": [
  {
   "cell_type": "markdown",
   "metadata": {},
   "source": [
    "### Introduction:\n",
    "\n",
    "This document is attempting to generate simple agent based models (ABM) with the the view to understand the powerful developer mode of the starsim python library for the generalized creation of ABMs. The modtivation here is to figure out good programming practices for efficient execution of model structure, simulation, and even perhaps, calibration with actual data.\n",
    "\n",
    "For every code chunk describing some aspect of this modeling exercise, I will list out ideas or code that did not make sense and also some thoughts on why I am confused. This is mostly to incur discussions in the upcoming coding sessions and to have a clearer picture of my thoughts while I am coding.  "
   ]
  },
  {
   "cell_type": "code",
   "execution_count": 24,
   "metadata": {},
   "outputs": [],
   "source": [
    "# configure jupyter to generate plots right below the code cell\n",
    "%matplotlib inline\n",
    "%reload_ext autoreload\n",
    "%autoreload 2\n",
    "\n",
    "\n",
    "\n",
    "import starsim as ss\n",
    "import pandas as pd\n",
    "import numpy as np\n",
    "import scipy as scp\n",
    "\n",
    "\n",
    "import sciris as sc\n",
    "# import seaborn as sns\n",
    "from matplotlib import pyplot as plt \n",
    "from enum import Enum\n",
    "\n"
   ]
  },
  {
   "cell_type": "markdown",
   "metadata": {},
   "source": [
    "Right of the bat, some things that did not make sense. These things are mostly because I do not natively sepak python. Version control, programming environments, and containers aren't as prevalently used in other programming languages as R. There is going to be a bit of learning curve here. \n",
    "\n",
    "* Things that I did -- \n",
    "    * Generate a prototype notebook for this exercise in the locally cloned starsim directory. \n",
    "    * Activated the anaconda vitual envrironment. This was the default one that appears when I start my VScode session. \n",
    "    * Loaded a few libraries that are going to useful.\n",
    "* Things I want to do -- "
   ]
  },
  {
   "cell_type": "markdown",
   "metadata": {},
   "source": [
    "### Simple SEIR model:\n",
    "\n",
    "Attempting to convert Dan's TBSim code to a simple SEIR model. This attempt is to understand the basic building blocks of the StarSim framework and coding logic. "
   ]
  },
  {
   "cell_type": "code",
   "execution_count": null,
   "metadata": {},
   "outputs": [],
   "source": [
    "#define the the instance of the seir system\n",
    "\n",
    "#__all__ = ['SEIR', 'SEIR_s']\n",
    "\n",
    "# this class defines the states of the system\n",
    "#class seir_s(Enum): \n",
    "#    SUSCEPTIBLE = 0.0 # Susceptible \n",
    "#    EXPOSED     = 1.0 # Exposed\n",
    "#    INFECTIOUS  = 2.0 # Infectious \n",
    "#    RECOVERED   = 3.0 # Recovered \n",
    "#    DEAD        = 4.0 # Dead\n",
    "\n",
    "# this class defines the system relationships \n",
    "# this carried out by modifying the 'Infection' base class provided in starsim   \n",
    "class seir(ss.Infection):\n",
    "    \"\"\"\n",
    "    Example SEIR model \n",
    "\n",
    "    simply modifying the sir model to get a feel for how the model can be defined from scratch.\n",
    "    \"\"\"\n",
    "\n",
    "\n",
    "    def __init__(self, pars=None, **kwargs):\n",
    "        super().__init__(**kwargs) \n",
    "\n",
    "        self.default_pars(\n",
    "            init_prev = ss.bernouli(p=0.01)     # initial prevalence    \n",
    "            beta = 0.1                          # probability of transmssion given contact\n",
    "            dur_exp = ss.expon(scale = 3)       # assuming an incubation duration of 3 days on average\n",
    "            dur_inf = ss.expon(scale = 5)       # assuming an infectious period of 5 days on average\n",
    "            p_death = ss.bernouli(p = 0.01)     # How do they convert the mortality rate to a probability like this?\n",
    "        )  \n",
    "        \n",
    "        self.update_pars(pars, **kwargs)\n",
    "        \n",
    "        # states for this model \n",
    "        self.add_states(\n",
    "            ss.BoolArr('susceptible'), \n",
    "            ss.BoolArr('exposed'), \n",
    "            ss.BoolArr('infectious'), \n",
    "            ss.BoolArr('recovered'), \n",
    "            # time index for transitioning\n",
    "            ss.FloatArr('infectious_ti'),\n",
    "            ss.FloatArr('recovered_ti')\n",
    "        )\n",
    "        self.susecptible = ss.states\n",
    "        self.\n",
    "\n",
    "\n",
    "        return \n",
    "\n",
    "\n",
    "    \n"
   ]
  },
  {
   "cell_type": "markdown",
   "metadata": {},
   "source": [
    "* Dan's script has a NONE state with the nan return value. \n",
    "    * Is this supposed to be the susceptible class?\n",
    "    * why is the return value not defined?\n",
    "* buisness with the inheritance, get a clarification.\n"
   ]
  }
 ],
 "metadata": {
  "kernelspec": {
   "display_name": "env_starsim",
   "language": "python",
   "name": "python3"
  },
  "language_info": {
   "codemirror_mode": {
    "name": "ipython",
    "version": 3
   },
   "file_extension": ".py",
   "mimetype": "text/x-python",
   "name": "python",
   "nbconvert_exporter": "python",
   "pygments_lexer": "ipython3",
   "version": "3.12.3"
  }
 },
 "nbformat": 4,
 "nbformat_minor": 2
}
